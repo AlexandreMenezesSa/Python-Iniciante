{
  "nbformat": 4,
  "nbformat_minor": 0,
  "metadata": {
    "colab": {
      "name": "Untitled3.ipynb",
      "provenance": [],
      "authorship_tag": "ABX9TyO5oaTUdrtZieAQyX5uqxhK",
      "include_colab_link": true
    },
    "kernelspec": {
      "name": "python3",
      "display_name": "Python 3"
    }
  },
  "cells": [
    {
      "cell_type": "markdown",
      "metadata": {
        "id": "view-in-github",
        "colab_type": "text"
      },
      "source": [
        "<a href=\"https://colab.research.google.com/github/AlexandreMenezesSa/Python-Beginner/blob/IGTI/Elif.ipynb\" target=\"_parent\"><img src=\"https://colab.research.google.com/assets/colab-badge.svg\" alt=\"Open In Colab\"/></a>"
      ]
    },
    {
      "cell_type": "markdown",
      "metadata": {
        "id": "XaCMN6Q8FkDU"
      },
      "source": [
        "### **Elif**"
      ]
    },
    {
      "cell_type": "code",
      "metadata": {
        "colab": {
          "base_uri": "https://localhost:8080/"
        },
        "id": "E3oqQKcDFgKt",
        "outputId": "1b35a42b-af11-4174-d0ef-4850b777d088"
      },
      "source": [
        "idade = int(input('Digite a sua idade: '))"
      ],
      "execution_count": 9,
      "outputs": [
        {
          "output_type": "stream",
          "text": [
            "Digite a sua idade: 15\n"
          ],
          "name": "stdout"
        }
      ]
    },
    {
      "cell_type": "code",
      "metadata": {
        "colab": {
          "base_uri": "https://localhost:8080/"
        },
        "id": "Nlvqze26GMYc",
        "outputId": "32061d90-7e8f-4ce7-cb81-b9d2db5cd831"
      },
      "source": [
        "print(idade)"
      ],
      "execution_count": 10,
      "outputs": [
        {
          "output_type": "stream",
          "text": [
            "15\n"
          ],
          "name": "stdout"
        }
      ]
    },
    {
      "cell_type": "code",
      "metadata": {
        "colab": {
          "base_uri": "https://localhost:8080/"
        },
        "id": "8gEAxbt5Glep",
        "outputId": "23b1a857-0b0a-4936-a684-8b9dde8bbcc0"
      },
      "source": [
        "print(type(idade))"
      ],
      "execution_count": 7,
      "outputs": [
        {
          "output_type": "stream",
          "text": [
            "<class 'int'>\n"
          ],
          "name": "stdout"
        }
      ]
    },
    {
      "cell_type": "code",
      "metadata": {
        "colab": {
          "base_uri": "https://localhost:8080/"
        },
        "id": "HclXf2gQG3UN",
        "outputId": "7edde7f5-d367-444a-b856-ec0ff8c73d9f"
      },
      "source": [
        "if idade >= 18:\r\n",
        "  print(\"pode digirir\")\r\n",
        "elif idade < 18:\r\n",
        "  print('não pode digirar, pega um busão')"
      ],
      "execution_count": 11,
      "outputs": [
        {
          "output_type": "stream",
          "text": [
            "não pode digirar, pega um busão\n"
          ],
          "name": "stdout"
        }
      ]
    },
    {
      "cell_type": "code",
      "metadata": {
        "colab": {
          "base_uri": "https://localhost:8080/"
        },
        "id": "oMYYXz3XHMkR",
        "outputId": "8f59231b-8fa9-4f19-8b78-48879b7afbeb"
      },
      "source": [
        "exercicio = int(input('Quantos minitos se exercita por dia? '))"
      ],
      "execution_count": 12,
      "outputs": [
        {
          "output_type": "stream",
          "text": [
            "Quantos minitos se exercita por dia? 50\n"
          ],
          "name": "stdout"
        }
      ]
    },
    {
      "cell_type": "code",
      "metadata": {
        "colab": {
          "base_uri": "https://localhost:8080/"
        },
        "id": "wLOaHedpHYrR",
        "outputId": "1debaa03-ae0c-438b-cccc-9661daac7bc5"
      },
      "source": [
        "if exercicio < 30:\r\n",
        "  print('Voce deve se exercitar mais')\r\n",
        "elif exercicio >= 30 and exercicio <= 60:\r\n",
        "  print('Voce esta no caminho certo')\r\n",
        "elif exercicio > 60 and exercicio <= 120:\r\n",
        "  print('Voce é um atleta ')\r\n",
        "else:\r\n",
        "  print('voce se exercita muito')"
      ],
      "execution_count": 13,
      "outputs": [
        {
          "output_type": "stream",
          "text": [
            "Voce esta no caminho certo\n"
          ],
          "name": "stdout"
        }
      ]
    }
  ]
}