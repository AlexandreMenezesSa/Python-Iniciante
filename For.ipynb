{
  "nbformat": 4,
  "nbformat_minor": 0,
  "metadata": {
    "colab": {
      "name": "Untitled2.ipynb",
      "provenance": []
    },
    "kernelspec": {
      "name": "python3",
      "display_name": "Python 3"
    }
  },
  "cells": [
    {
      "cell_type": "markdown",
      "metadata": {
        "id": "ktqPxVj0mWdF"
      },
      "source": [
        "### **For**"
      ]
    },
    {
      "cell_type": "code",
      "metadata": {
        "colab": {
          "base_uri": "https://localhost:8080/",
          "height": 35
        },
        "id": "OGcLmfPymOJz",
        "outputId": "e9565c1a-93b9-44b9-9aca-8884c4487ada"
      },
      "source": [
        "import pandas\r\n",
        "pandas.__version__"
      ],
      "execution_count": 5,
      "outputs": [
        {
          "output_type": "execute_result",
          "data": {
            "application/vnd.google.colaboratory.intrinsic+json": {
              "type": "string"
            },
            "text/plain": [
              "'1.1.5'"
            ]
          },
          "metadata": {
            "tags": []
          },
          "execution_count": 5
        }
      ]
    },
    {
      "cell_type": "code",
      "metadata": {
        "id": "PtDKxIQlrXHs"
      },
      "source": [
        "cor = ['verde', 'amarelo','vermelho','cinza','azul']"
      ],
      "execution_count": 2,
      "outputs": []
    },
    {
      "cell_type": "code",
      "metadata": {
        "colab": {
          "base_uri": "https://localhost:8080/"
        },
        "id": "UiJkdgkfrjK4",
        "outputId": "608cbe9d-5730-46bf-fc56-f086e5995822"
      },
      "source": [
        "for i in cor:\r\n",
        "  print(i)"
      ],
      "execution_count": 4,
      "outputs": [
        {
          "output_type": "stream",
          "text": [
            "verde\n",
            "amarelo\n",
            "vermelho\n",
            "cinza\n",
            "azul\n"
          ],
          "name": "stdout"
        }
      ]
    },
    {
      "cell_type": "code",
      "metadata": {
        "colab": {
          "base_uri": "https://localhost:8080/"
        },
        "id": "WmeZGh17uqPN",
        "outputId": "a636c886-f6b1-4046-851f-020ba597a26f"
      },
      "source": [
        "for x in 'peneumaultracospio':\r\n",
        "  print(x)"
      ],
      "execution_count": 6,
      "outputs": [
        {
          "output_type": "stream",
          "text": [
            "p\n",
            "e\n",
            "n\n",
            "e\n",
            "u\n",
            "m\n",
            "a\n",
            "u\n",
            "l\n",
            "t\n",
            "r\n",
            "a\n",
            "c\n",
            "o\n",
            "s\n",
            "p\n",
            "i\n",
            "o\n"
          ],
          "name": "stdout"
        }
      ]
    },
    {
      "cell_type": "code",
      "metadata": {
        "id": "grAKrIl5xZAi"
      },
      "source": [
        "num = (1,2,3,4,5,6,7,8,9,10,11,12,13,14,15)"
      ],
      "execution_count": 8,
      "outputs": []
    },
    {
      "cell_type": "code",
      "metadata": {
        "colab": {
          "base_uri": "https://localhost:8080/"
        },
        "id": "AnZuybJkxi_J",
        "outputId": "498ba766-71c1-4c07-e32d-ee79d8e83378"
      },
      "source": [
        "for s in num:\r\n",
        "  print(s)"
      ],
      "execution_count": 10,
      "outputs": [
        {
          "output_type": "stream",
          "text": [
            "1\n",
            "2\n",
            "3\n",
            "4\n",
            "5\n",
            "6\n",
            "7\n",
            "8\n",
            "9\n",
            "10\n",
            "11\n",
            "12\n",
            "13\n",
            "14\n",
            "15\n"
          ],
          "name": "stdout"
        }
      ]
    },
    {
      "cell_type": "code",
      "metadata": {
        "colab": {
          "base_uri": "https://localhost:8080/"
        },
        "id": "WzvR3NeixsBC",
        "outputId": "002ff23f-9511-4940-d48d-43369339aa61"
      },
      "source": [
        "for s in num:\r\n",
        "  print(s)\r\n",
        "  if s == 7:\r\n",
        "    break"
      ],
      "execution_count": 13,
      "outputs": [
        {
          "output_type": "stream",
          "text": [
            "1\n",
            "2\n",
            "3\n",
            "4\n",
            "5\n",
            "6\n",
            "7\n"
          ],
          "name": "stdout"
        }
      ]
    }
  ]
}