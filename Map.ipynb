{
  "nbformat": 4,
  "nbformat_minor": 0,
  "metadata": {
    "colab": {
      "name": "Map.ipynb",
      "provenance": [],
      "collapsed_sections": [],
      "authorship_tag": "ABX9TyOAa1miTkhukkq0YbVd3XNE",
      "include_colab_link": true
    },
    "kernelspec": {
      "name": "python3",
      "display_name": "Python 3"
    },
    "language_info": {
      "name": "python"
    }
  },
  "cells": [
    {
      "cell_type": "markdown",
      "metadata": {
        "id": "view-in-github",
        "colab_type": "text"
      },
      "source": [
        "<a href=\"https://colab.research.google.com/github/AlexandreMenezesSa/Python-Beginner/blob/master/Map.ipynb\" target=\"_parent\"><img src=\"https://colab.research.google.com/assets/colab-badge.svg\" alt=\"Open In Colab\"/></a>"
      ]
    },
    {
      "cell_type": "markdown",
      "metadata": {
        "id": "SSLAP1y-IeGA"
      },
      "source": [
        "**https://github.com/AlexandreMenezesSa**"
      ]
    },
    {
      "cell_type": "code",
      "metadata": {
        "colab": {
          "base_uri": "https://localhost:8080/"
        },
        "id": "xho0EKchIhCa",
        "outputId": "401ca6b0-7e77-4c5a-df61-07f2a50e28ea"
      },
      "source": [
        "# versão da liguagem Python\n",
        "\n",
        "from platform import python_version\n",
        "print('Versão da Linguagem Python Usada Neste Jupyter Notebook:', python_version())"
      ],
      "execution_count": null,
      "outputs": [
        {
          "output_type": "stream",
          "text": [
            "Versão da Linguagem Python Usada Neste Jupyter Notebook: 3.7.11\n"
          ],
          "name": "stdout"
        }
      ]
    },
    {
      "cell_type": "markdown",
      "metadata": {
        "id": "lERMbAooLFiN"
      },
      "source": [
        "MAP"
      ]
    },
    {
      "cell_type": "code",
      "metadata": {
        "id": "iiESWYskLGuj"
      },
      "source": [
        "# Criando duas funções\n",
        "\n",
        "# Função 1 - Recebe uma temperatura como parâmetro e retorna a temperatura em Fahrenheit\n",
        "\n",
        "def fahrenheit(T):\n",
        "  return ((float(9)/5)*T+32)\n",
        "\n",
        "# Função 2 - Recebe uma temperatura como parâmetro e retorna a temperatura em Celsius\n",
        "\n",
        "def celcius(T):\n",
        "   return (float(5)/9)*(T-32)"
      ],
      "execution_count": null,
      "outputs": []
    },
    {
      "cell_type": "code",
      "metadata": {
        "id": "2E-pk74oMRuF"
      },
      "source": [
        "# Criando uma lista\n",
        "\n",
        "temperaturas = [0, 22.5, 40, 100, 55]"
      ],
      "execution_count": null,
      "outputs": []
    },
    {
      "cell_type": "code",
      "metadata": {
        "colab": {
          "base_uri": "https://localhost:8080/"
        },
        "id": "z5GX1UzUMdpn",
        "outputId": "f26dde33-2394-4a63-e028-279a134f0ceb"
      },
      "source": [
        "# Aplicando a função a cada elemento da lista de temperaturas. \n",
        "# Em Python 3, a funçãp map() retornar um iterator\n",
        "\n",
        "map(fahrenheit, temperaturas)"
      ],
      "execution_count": null,
      "outputs": [
        {
          "output_type": "execute_result",
          "data": {
            "text/plain": [
              "<map at 0x7f71ecffca10>"
            ]
          },
          "metadata": {
            "tags": []
          },
          "execution_count": 5
        }
      ]
    },
    {
      "cell_type": "code",
      "metadata": {
        "colab": {
          "base_uri": "https://localhost:8080/"
        },
        "id": "eoZMHeTrMmfx",
        "outputId": "24340641-332f-428a-a7de-3fd469e670ce"
      },
      "source": [
        "list(map(fahrenheit, temperaturas))"
      ],
      "execution_count": null,
      "outputs": [
        {
          "output_type": "execute_result",
          "data": {
            "text/plain": [
              "[32.0, 72.5, 104.0, 212.0, 131.0]"
            ]
          },
          "metadata": {
            "tags": []
          },
          "execution_count": 13
        }
      ]
    },
    {
      "cell_type": "code",
      "metadata": {
        "id": "sVI57giUMvQ-",
        "colab": {
          "base_uri": "https://localhost:8080/"
        },
        "outputId": "6e9e906c-d7b6-4ae3-fa9b-7ea64eed6f6c"
      },
      "source": [
        "# Usando um loop for para imprimir o resultado da função map()\n",
        "\n",
        "for temp in map(fahrenheit, temperaturas):\n",
        "  print(temp)\n",
        "\n"
      ],
      "execution_count": null,
      "outputs": [
        {
          "output_type": "stream",
          "text": [
            "32.0\n",
            "72.5\n",
            "104.0\n",
            "212.0\n",
            "131.0\n"
          ],
          "name": "stdout"
        }
      ]
    },
    {
      "cell_type": "code",
      "metadata": {
        "colab": {
          "base_uri": "https://localhost:8080/"
        },
        "id": "8_oYIaPBSu7Z",
        "outputId": "2db0753f-69dd-4cb6-da32-406f1b14882a"
      },
      "source": [
        "# Convertendo para Celsius\n",
        "\n",
        "map(celcius, temperaturas)"
      ],
      "execution_count": null,
      "outputs": [
        {
          "output_type": "execute_result",
          "data": {
            "text/plain": [
              "<map at 0x7f71eb574d50>"
            ]
          },
          "metadata": {
            "tags": []
          },
          "execution_count": 15
        }
      ]
    },
    {
      "cell_type": "code",
      "metadata": {
        "colab": {
          "base_uri": "https://localhost:8080/"
        },
        "id": "IYC4WGg-S0xg",
        "outputId": "ac21f8cd-545e-4c22-d60e-2659f5d53022"
      },
      "source": [
        "list(map(celcius, temperaturas))"
      ],
      "execution_count": null,
      "outputs": [
        {
          "output_type": "execute_result",
          "data": {
            "text/plain": [
              "[-17.77777777777778,\n",
              " -5.277777777777778,\n",
              " 4.444444444444445,\n",
              " 37.77777777777778,\n",
              " 12.777777777777779]"
            ]
          },
          "metadata": {
            "tags": []
          },
          "execution_count": 17
        }
      ]
    },
    {
      "cell_type": "code",
      "metadata": {
        "colab": {
          "base_uri": "https://localhost:8080/"
        },
        "id": "75gW8QY2TqtH",
        "outputId": "c1af48c6-87c7-40d5-bf84-593b260d854d"
      },
      "source": [
        "# Usando lambda\n",
        "\n",
        "map(lambda x: (5.0/9)*(x-32), temperaturas)"
      ],
      "execution_count": null,
      "outputs": [
        {
          "output_type": "execute_result",
          "data": {
            "text/plain": [
              "<map at 0x7f71eb503310>"
            ]
          },
          "metadata": {
            "tags": []
          },
          "execution_count": 19
        }
      ]
    },
    {
      "cell_type": "code",
      "metadata": {
        "colab": {
          "base_uri": "https://localhost:8080/"
        },
        "id": "4NEwoj2qT8Qb",
        "outputId": "6b7bb444-5141-49e5-c2ca-3c2cf8ba2d1d"
      },
      "source": [
        "list(map(lambda x: (5.0/9)*(x-32), temperaturas))"
      ],
      "execution_count": null,
      "outputs": [
        {
          "output_type": "execute_result",
          "data": {
            "text/plain": [
              "[-17.77777777777778,\n",
              " -5.277777777777778,\n",
              " 4.444444444444445,\n",
              " 37.77777777777778,\n",
              " 12.777777777777779]"
            ]
          },
          "metadata": {
            "tags": []
          },
          "execution_count": 20
        }
      ]
    },
    {
      "cell_type": "code",
      "metadata": {
        "id": "33bkJRkDVOSS"
      },
      "source": [
        "# Somando os elementos de 3 listas\n",
        "\n",
        "a = [1,2,3,4]\n",
        "b = [5,6,7,8]\n",
        "c = [9,10,11,12]"
      ],
      "execution_count": null,
      "outputs": []
    },
    {
      "cell_type": "code",
      "metadata": {
        "colab": {
          "base_uri": "https://localhost:8080/"
        },
        "id": "ylKusbyuXWFv",
        "outputId": "f4f49084-440f-4886-97ea-1a0af012a5e4"
      },
      "source": [
        "list(map(lambda x,y,z: x+y+z, a, b ,c))"
      ],
      "execution_count": null,
      "outputs": [
        {
          "output_type": "execute_result",
          "data": {
            "text/plain": [
              "[15, 18, 21, 24]"
            ]
          },
          "metadata": {
            "tags": []
          },
          "execution_count": 25
        }
      ]
    }
  ]
}