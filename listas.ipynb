{
  "nbformat": 4,
  "nbformat_minor": 0,
  "metadata": {
    "colab": {
      "name": "Untitled0.ipynb",
      "provenance": [],
      "collapsed_sections": [],
      "authorship_tag": "ABX9TyOy2hBrPrd4lEGD47fCvIjo",
      "include_colab_link": true
    },
    "kernelspec": {
      "name": "python3",
      "display_name": "Python 3"
    }
  },
  "cells": [
    {
      "cell_type": "markdown",
      "metadata": {
        "id": "view-in-github",
        "colab_type": "text"
      },
      "source": [
        "<a href=\"https://colab.research.google.com/github/AlexandreMenezesSa/Python-Beginner/blob/IGTI/listas.ipynb\" target=\"_parent\"><img src=\"https://colab.research.google.com/assets/colab-badge.svg\" alt=\"Open In Colab\"/></a>"
      ]
    },
    {
      "cell_type": "markdown",
      "metadata": {
        "id": "_yZ23kW_48XP"
      },
      "source": [
        "**Lista(Array)**"
      ]
    },
    {
      "cell_type": "code",
      "metadata": {
        "id": "LeZn3oqI47u4"
      },
      "source": [
        "frutas = ['banaba','abacata','abacate','melancia','caju','abacaxi']"
      ],
      "execution_count": 19,
      "outputs": []
    },
    {
      "cell_type": "code",
      "metadata": {
        "id": "oHDXInqO41LV"
      },
      "source": [
        "saldo_alunos = [500.00, 1200.00, 1000.00, 600.00, 5000000.00]\r\n",
        "num_paciente = [25, 36, 50, 45,22 ,33, 89]"
      ],
      "execution_count": 8,
      "outputs": []
    },
    {
      "cell_type": "code",
      "metadata": {
        "colab": {
          "base_uri": "https://localhost:8080/"
        },
        "id": "zujFjm-55lf4",
        "outputId": "348f3e9b-83a5-4393-96db-9a8f2bec3e84"
      },
      "source": [
        "print(frutas)"
      ],
      "execution_count": 9,
      "outputs": [
        {
          "output_type": "stream",
          "text": [
            "['banaba', 'abacata', 'abacata', 'melancia', 'caju', 'abacaxi']\n"
          ],
          "name": "stdout"
        }
      ]
    },
    {
      "cell_type": "code",
      "metadata": {
        "colab": {
          "base_uri": "https://localhost:8080/"
        },
        "id": "bsu6_lkU59Hg",
        "outputId": "c42b6e71-8c30-4e77-a291-076df7c0cbea"
      },
      "source": [
        "print(saldo_alunos)"
      ],
      "execution_count": 10,
      "outputs": [
        {
          "output_type": "stream",
          "text": [
            "[500.0, 1200.0, 1000.0, 600.0, 5000000.0]\n"
          ],
          "name": "stdout"
        }
      ]
    },
    {
      "cell_type": "code",
      "metadata": {
        "colab": {
          "base_uri": "https://localhost:8080/"
        },
        "id": "s6NTGEY86G2d",
        "outputId": "88a93e46-07a3-47e9-8940-81c430a1a60a"
      },
      "source": [
        "print(num_paciente)"
      ],
      "execution_count": 11,
      "outputs": [
        {
          "output_type": "stream",
          "text": [
            "[25, 36, 50, 45, 22, 33, 89]\n"
          ],
          "name": "stdout"
        }
      ]
    },
    {
      "cell_type": "code",
      "metadata": {
        "colab": {
          "base_uri": "https://localhost:8080/"
        },
        "id": "5JTtoxSk6OAL",
        "outputId": "47dab68f-f360-488e-f93d-55276b8af2bf"
      },
      "source": [
        "len(saldo_alunos)"
      ],
      "execution_count": 12,
      "outputs": [
        {
          "output_type": "execute_result",
          "data": {
            "text/plain": [
              "5"
            ]
          },
          "metadata": {
            "tags": []
          },
          "execution_count": 12
        }
      ]
    },
    {
      "cell_type": "code",
      "metadata": {
        "colab": {
          "base_uri": "https://localhost:8080/"
        },
        "id": "jH4slELT6OLu",
        "outputId": "aea17657-ad51-4fcc-c275-24c5c0779f5e"
      },
      "source": [
        "len(num_paciente)"
      ],
      "execution_count": 13,
      "outputs": [
        {
          "output_type": "execute_result",
          "data": {
            "text/plain": [
              "7"
            ]
          },
          "metadata": {
            "tags": []
          },
          "execution_count": 13
        }
      ]
    },
    {
      "cell_type": "code",
      "metadata": {
        "id": "VsOz6vNA7Wqx"
      },
      "source": [
        "variados = [10, 2.5, 'Python']"
      ],
      "execution_count": 14,
      "outputs": []
    },
    {
      "cell_type": "code",
      "metadata": {
        "colab": {
          "base_uri": "https://localhost:8080/"
        },
        "id": "_L3Vi-x_7Wzj",
        "outputId": "0bd7d5b3-66e6-48fd-9cb1-5f1f264f9199"
      },
      "source": [
        "print(variados)"
      ],
      "execution_count": 15,
      "outputs": [
        {
          "output_type": "stream",
          "text": [
            "[10, 2.5, 'Python']\n"
          ],
          "name": "stdout"
        }
      ]
    },
    {
      "cell_type": "code",
      "metadata": {
        "colab": {
          "base_uri": "https://localhost:8080/"
        },
        "id": "vLzjKP_97_HR",
        "outputId": "9f408e39-41b6-40ec-87a9-f44ccf14781b"
      },
      "source": [
        "print(frutas[2])"
      ],
      "execution_count": 20,
      "outputs": [
        {
          "output_type": "stream",
          "text": [
            "abacate\n"
          ],
          "name": "stdout"
        }
      ]
    },
    {
      "cell_type": "code",
      "metadata": {
        "colab": {
          "base_uri": "https://localhost:8080/"
        },
        "id": "eWT-DBMx8KAJ",
        "outputId": "d3387c88-c716-45bf-ef46-56849431a6f9"
      },
      "source": [
        "print(frutas[3])"
      ],
      "execution_count": 21,
      "outputs": [
        {
          "output_type": "stream",
          "text": [
            "melancia\n"
          ],
          "name": "stdout"
        }
      ]
    },
    {
      "cell_type": "code",
      "metadata": {
        "id": "P95_RbcN8XVb"
      },
      "source": [
        "frutas.append('morango')"
      ],
      "execution_count": 22,
      "outputs": []
    },
    {
      "cell_type": "code",
      "metadata": {
        "colab": {
          "base_uri": "https://localhost:8080/"
        },
        "id": "d37yZk5P8XZ5",
        "outputId": "3610f49f-0933-4859-8450-707cca0cdd44"
      },
      "source": [
        "print(frutas)"
      ],
      "execution_count": 23,
      "outputs": [
        {
          "output_type": "stream",
          "text": [
            "['banaba', 'abacata', 'abacate', 'melancia', 'caju', 'abacaxi', 'morango']\n"
          ],
          "name": "stdout"
        }
      ]
    },
    {
      "cell_type": "code",
      "metadata": {
        "id": "a-ib-ndI8r5J"
      },
      "source": [
        "saldo_alunos.extend(num_paciente)"
      ],
      "execution_count": 24,
      "outputs": []
    },
    {
      "cell_type": "code",
      "metadata": {
        "colab": {
          "base_uri": "https://localhost:8080/"
        },
        "id": "Z5FMM82j847q",
        "outputId": "1aa9c243-5ee3-473e-f1e1-8ee0939c6395"
      },
      "source": [
        "print(saldo_alunos)"
      ],
      "execution_count": 25,
      "outputs": [
        {
          "output_type": "stream",
          "text": [
            "[500.0, 1200.0, 1000.0, 600.0, 5000000.0, 25, 36, 50, 45, 22, 33, 89]\n"
          ],
          "name": "stdout"
        }
      ]
    }
  ]
}