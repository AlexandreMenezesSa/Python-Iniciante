{
  "nbformat": 4,
  "nbformat_minor": 0,
  "metadata": {
    "colab": {
      "name": "Untitled4.ipynb",
      "provenance": []
    },
    "kernelspec": {
      "name": "python3",
      "display_name": "Python 3"
    }
  },
  "cells": [
    {
      "cell_type": "markdown",
      "metadata": {
        "id": "XLeHAth8DPJs"
      },
      "source": [
        "## **DEF** - Funções"
      ]
    },
    {
      "cell_type": "code",
      "metadata": {
        "id": "DuSihGdbDLgW"
      },
      "source": [
        "def soma(x,y):\r\n",
        "  print(x * y)"
      ],
      "execution_count": 1,
      "outputs": []
    },
    {
      "cell_type": "code",
      "metadata": {
        "colab": {
          "base_uri": "https://localhost:8080/"
        },
        "id": "jmvnqAmgGZkV",
        "outputId": "fcc820b1-40a6-44fe-a261-fe9df6d83643"
      },
      "source": [
        "soma(10,5)"
      ],
      "execution_count": 2,
      "outputs": [
        {
          "output_type": "stream",
          "text": [
            "50\n"
          ],
          "name": "stdout"
        }
      ]
    },
    {
      "cell_type": "code",
      "metadata": {
        "id": "qeSEisaOGsJz"
      },
      "source": [
        "def imc(peso,altura):\r\n",
        "  imc = peso/(altura**2)\r\n",
        "  if imc < 18.5:\r\n",
        "    print('Magreza: ',imc)\r\n",
        "  elif imc >= 18.5 and imc <= 24.9:\r\n",
        "    print('Normal: ', imc)\r\n",
        "  elif imc >= 25.0 and imc <= 29.9:\r\n",
        "    print('Sobrepeso: ', imc)\r\n",
        "  elif imc >= 30.0 and imc <= 39.9:\r\n",
        "    print('Obesidade I: ', imc)\r\n",
        "  else:\r\n",
        "    print('Obesidade Grau II: ',imc)\r\n",
        "  return\r\n"
      ],
      "execution_count": 11,
      "outputs": []
    },
    {
      "cell_type": "code",
      "metadata": {
        "colab": {
          "base_uri": "https://localhost:8080/"
        },
        "id": "9SRvpbwyIJSV",
        "outputId": "a537b7cb-82fe-42a5-c5b4-9f945ebcabaf"
      },
      "source": [
        "imc(100,1.74)"
      ],
      "execution_count": 17,
      "outputs": [
        {
          "output_type": "stream",
          "text": [
            "Obesidade I:  33.029462280354075\n"
          ],
          "name": "stdout"
        }
      ]
    }
  ]
}