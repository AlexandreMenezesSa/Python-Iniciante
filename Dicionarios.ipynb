{
  "nbformat": 4,
  "nbformat_minor": 0,
  "metadata": {
    "colab": {
      "name": "Untitled1.ipynb",
      "provenance": [],
      "authorship_tag": "ABX9TyMsG3szNdwnAypP96OMjk/o",
      "include_colab_link": true
    },
    "kernelspec": {
      "name": "python3",
      "display_name": "Python 3"
    }
  },
  "cells": [
    {
      "cell_type": "markdown",
      "metadata": {
        "id": "view-in-github",
        "colab_type": "text"
      },
      "source": [
        "<a href=\"https://colab.research.google.com/github/AlexandreMenezesSa/Python-Beginner/blob/IGTI/Dicionarios.ipynb\" target=\"_parent\"><img src=\"https://colab.research.google.com/assets/colab-badge.svg\" alt=\"Open In Colab\"/></a>"
      ]
    },
    {
      "cell_type": "markdown",
      "metadata": {
        "id": "XegGprCr79jE"
      },
      "source": [
        "**Dicionarios**\r\n"
      ]
    },
    {
      "cell_type": "code",
      "metadata": {
        "id": "8igWA6N-3yiT"
      },
      "source": [
        "cod_uf = {\r\n",
        "    21:'Maranhão',\r\n",
        "    22:'Piaui',\r\n",
        "    23:'Ceara',\r\n",
        "    24:'Rio Grande do Norte',\r\n",
        "    25:'Paraiba',\r\n",
        "    26:'Pernanbuco',\r\n",
        "    27:'Alagoas',\r\n",
        "    28:'Sergipe',\r\n",
        "    29:'Bahia'\r\n",
        "}"
      ],
      "execution_count": 6,
      "outputs": []
    },
    {
      "cell_type": "code",
      "metadata": {
        "colab": {
          "base_uri": "https://localhost:8080/"
        },
        "id": "uWLxWjg79sVR",
        "outputId": "3f8731a4-4436-4d81-f239-c5e182dff479"
      },
      "source": [
        "print(type(cod_uf))"
      ],
      "execution_count": 7,
      "outputs": [
        {
          "output_type": "stream",
          "text": [
            "<class 'dict'>\n"
          ],
          "name": "stdout"
        }
      ]
    },
    {
      "cell_type": "markdown",
      "metadata": {
        "id": "t1SB-1EQ-S93"
      },
      "source": [
        "Valores Ordenados, a partir do Python 3.6"
      ]
    },
    {
      "cell_type": "code",
      "metadata": {
        "colab": {
          "base_uri": "https://localhost:8080/"
        },
        "id": "0K3Hd38A98Vo",
        "outputId": "75710ac4-d948-49d9-8319-56d28994d6df"
      },
      "source": [
        "print(cod_uf)"
      ],
      "execution_count": 8,
      "outputs": [
        {
          "output_type": "stream",
          "text": [
            "{21: 'Maranhão', 22: 'Piaui', 23: 'Ceara', 24: 'Rio Grande do Norte', 25: 'Paraiba', 26: 'Pernanbuco', 27: 'Alagoas', 28: 'Sergipe', 29: 'Bahia'}\n"
          ],
          "name": "stdout"
        }
      ]
    },
    {
      "cell_type": "code",
      "metadata": {
        "id": "dpW3ziwc-xv6"
      },
      "source": [
        "cod_uf_2 = {\r\n",
        "    21:'Maranhão',\r\n",
        "    22:'Piaui',\r\n",
        "    23:'Ceara',\r\n",
        "    24:'Rio Grande do Norte',\r\n",
        "    25:'Paraiba',\r\n",
        "    26:'Pernanbuco',\r\n",
        "    27:'Alagoas',\r\n",
        "    28:'Sergipe',\r\n",
        "    29:'Bahia',\r\n",
        "        21:'Maranhão',\r\n",
        "    22:'Piaui',\r\n",
        "    23:'Ceara',\r\n",
        "    24:'Rio Grande do Norte',\r\n",
        "    25:'Paraiba',\r\n",
        "    26:'Pernanbuco',\r\n",
        "    27:'Alagoas',\r\n",
        "    28:'Sergipe',\r\n",
        "    29:'Bahia',\r\n",
        "        21:'Maranhão',\r\n",
        "    22:'Piaui',\r\n",
        "    23:'Ceara',\r\n",
        "    24:'Rio Grande do Norte',\r\n",
        "    25:'Paraiba',\r\n",
        "    26:'Pernanbuco',\r\n",
        "    27:'Alagoas',\r\n",
        "    28:'Sergipe',\r\n",
        "    29:'Bahia',\r\n",
        "        21:'Maranhão',\r\n",
        "    22:'Piaui',\r\n",
        "    23:'Ceara',\r\n",
        "    24:'Rio Grande do Norte',\r\n",
        "    25:'Paraiba',\r\n",
        "    26:'Pernanbuco',\r\n",
        "    27:'Alagoas',\r\n",
        "    28:'Sergipe',\r\n",
        "    29:'Bahia',\r\n",
        "        21:'Maranhão',\r\n",
        "    22:'Piaui',\r\n",
        "    23:'Ceara',\r\n",
        "    24:'Rio Grande do Norte',\r\n",
        "    25:'Paraiba',\r\n",
        "    26:'Pernanbuco',\r\n",
        "    27:'Alagoas',\r\n",
        "    28:'Sergipe',\r\n",
        "    29:'Bahia'\r\n",
        "}"
      ],
      "execution_count": 12,
      "outputs": []
    },
    {
      "cell_type": "code",
      "metadata": {
        "colab": {
          "base_uri": "https://localhost:8080/"
        },
        "id": "tTKZddaj-_p8",
        "outputId": "3be8c01b-d6f8-4e24-9601-1a1c2d4088db"
      },
      "source": [
        "print(cod_uf_2)"
      ],
      "execution_count": 13,
      "outputs": [
        {
          "output_type": "stream",
          "text": [
            "{21: 'Maranhão', 22: 'Piaui', 23: 'Ceara', 24: 'Rio Grande do Norte', 25: 'Paraiba', 26: 'Pernanbuco', 27: 'Alagoas', 28: 'Sergipe', 29: 'Bahia'}\n"
          ],
          "name": "stdout"
        }
      ]
    },
    {
      "cell_type": "code",
      "metadata": {
        "colab": {
          "base_uri": "https://localhost:8080/"
        },
        "id": "fOpBx5J4_EuF",
        "outputId": "eba81280-5bff-4f7f-cf70-910a2e9f0232"
      },
      "source": [
        "print(cod_uf_2.get(22))"
      ],
      "execution_count": 15,
      "outputs": [
        {
          "output_type": "stream",
          "text": [
            "Piaui\n"
          ],
          "name": "stdout"
        }
      ]
    },
    {
      "cell_type": "code",
      "metadata": {
        "colab": {
          "base_uri": "https://localhost:8080/"
        },
        "id": "fmPQXKPL_So8",
        "outputId": "b2e3c963-c8fc-483b-b078-4e96ec15c50c"
      },
      "source": [
        "cod_uf_2.keys()"
      ],
      "execution_count": 17,
      "outputs": [
        {
          "output_type": "execute_result",
          "data": {
            "text/plain": [
              "dict_keys([21, 22, 23, 24, 25, 26, 27, 28, 29])"
            ]
          },
          "metadata": {
            "tags": []
          },
          "execution_count": 17
        }
      ]
    },
    {
      "cell_type": "code",
      "metadata": {
        "id": "LASkcL9F_ilL"
      },
      "source": [
        "cod_uf[30] = 'Estado Vira-lata caramelo'"
      ],
      "execution_count": 18,
      "outputs": []
    },
    {
      "cell_type": "code",
      "metadata": {
        "colab": {
          "base_uri": "https://localhost:8080/"
        },
        "id": "jdaOy72k_ri_",
        "outputId": "e6e3782c-9beb-49ef-c8e0-e1866e243eb7"
      },
      "source": [
        "print(cod_uf)"
      ],
      "execution_count": 19,
      "outputs": [
        {
          "output_type": "stream",
          "text": [
            "{21: 'Maranhão', 22: 'Piaui', 23: 'Ceara', 24: 'Rio Grande do Norte', 25: 'Paraiba', 26: 'Pernanbuco', 27: 'Alagoas', 28: 'Sergipe', 29: 'Bahia', 30: 'Estado Vira-lata caramelo'}\n"
          ],
          "name": "stdout"
        }
      ]
    }
  ]
}