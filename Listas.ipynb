{
  "nbformat": 4,
  "nbformat_minor": 0,
  "metadata": {
    "colab": {
      "name": "Untitled0.ipynb",
      "provenance": [],
      "authorship_tag": "ABX9TyPcSOQOJQUGwMCWLxStzekh",
      "include_colab_link": true
    },
    "kernelspec": {
      "name": "python3",
      "display_name": "Python 3"
    }
  },
  "cells": [
    {
      "cell_type": "markdown",
      "metadata": {
        "id": "view-in-github",
        "colab_type": "text"
      },
      "source": [
        "<a href=\"https://colab.research.google.com/github/AlexandreMenezesSa/Python-Beginner/blob/master/Listas.ipynb\" target=\"_parent\"><img src=\"https://colab.research.google.com/assets/colab-badge.svg\" alt=\"Open In Colab\"/></a>"
      ]
    },
    {
      "cell_type": "markdown",
      "metadata": {
        "id": "_yZ23kW_48XP"
      },
      "source": [
        "**Lista(Array)**"
      ]
    },
    {
      "cell_type": "code",
      "metadata": {
        "id": "LeZn3oqI47u4"
      },
      "source": [
        "frutas = ['banaba','abacata','abacata','melancia','caju','abacaxi']"
      ],
      "execution_count": 3,
      "outputs": []
    },
    {
      "cell_type": "code",
      "metadata": {
        "id": "oHDXInqO41LV"
      },
      "source": [
        "saldo_alunos = [500.00, 1200.00, 1000.00, 600.00, 5000000.00]\r\n",
        "num_paciente = [25, 36, 50, 45,22 ,33, 89]"
      ],
      "execution_count": 8,
      "outputs": []
    },
    {
      "cell_type": "code",
      "metadata": {
        "colab": {
          "base_uri": "https://localhost:8080/"
        },
        "id": "zujFjm-55lf4",
        "outputId": "348f3e9b-83a5-4393-96db-9a8f2bec3e84"
      },
      "source": [
        "print(frutas)"
      ],
      "execution_count": 9,
      "outputs": [
        {
          "output_type": "stream",
          "text": [
            "['banaba', 'abacata', 'abacata', 'melancia', 'caju', 'abacaxi']\n"
          ],
          "name": "stdout"
        }
      ]
    },
    {
      "cell_type": "code",
      "metadata": {
        "colab": {
          "base_uri": "https://localhost:8080/"
        },
        "id": "bsu6_lkU59Hg",
        "outputId": "c42b6e71-8c30-4e77-a291-076df7c0cbea"
      },
      "source": [
        "print(saldo_alunos)"
      ],
      "execution_count": 10,
      "outputs": [
        {
          "output_type": "stream",
          "text": [
            "[500.0, 1200.0, 1000.0, 600.0, 5000000.0]\n"
          ],
          "name": "stdout"
        }
      ]
    },
    {
      "cell_type": "code",
      "metadata": {
        "colab": {
          "base_uri": "https://localhost:8080/"
        },
        "id": "s6NTGEY86G2d",
        "outputId": "88a93e46-07a3-47e9-8940-81c430a1a60a"
      },
      "source": [
        "print(num_paciente)"
      ],
      "execution_count": 11,
      "outputs": [
        {
          "output_type": "stream",
          "text": [
            "[25, 36, 50, 45, 22, 33, 89]\n"
          ],
          "name": "stdout"
        }
      ]
    },
    {
      "cell_type": "code",
      "metadata": {
        "colab": {
          "base_uri": "https://localhost:8080/"
        },
        "id": "5JTtoxSk6OAL",
        "outputId": "47dab68f-f360-488e-f93d-55276b8af2bf"
      },
      "source": [
        "len(saldo_alunos)"
      ],
      "execution_count": 12,
      "outputs": [
        {
          "output_type": "execute_result",
          "data": {
            "text/plain": [
              "5"
            ]
          },
          "metadata": {
            "tags": []
          },
          "execution_count": 12
        }
      ]
    },
    {
      "cell_type": "code",
      "metadata": {
        "colab": {
          "base_uri": "https://localhost:8080/"
        },
        "id": "jH4slELT6OLu",
        "outputId": "aea17657-ad51-4fcc-c275-24c5c0779f5e"
      },
      "source": [
        "len(num_paciente)"
      ],
      "execution_count": 13,
      "outputs": [
        {
          "output_type": "execute_result",
          "data": {
            "text/plain": [
              "7"
            ]
          },
          "metadata": {
            "tags": []
          },
          "execution_count": 13
        }
      ]
    }
  ]
}