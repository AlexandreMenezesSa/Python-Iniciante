{
  "nbformat": 4,
  "nbformat_minor": 0,
  "metadata": {
    "colab": {
      "name": "Untitled3.ipynb",
      "provenance": []
    },
    "kernelspec": {
      "name": "python3",
      "display_name": "Python 3"
    }
  },
  "cells": [
    {
      "cell_type": "markdown",
      "metadata": {
        "id": "TsBmPYoJ1f_c"
      },
      "source": [
        "## **While**"
      ]
    },
    {
      "cell_type": "code",
      "metadata": {
        "colab": {
          "base_uri": "https://localhost:8080/"
        },
        "id": "p_IBb0W51Stu",
        "outputId": "b7341d30-051d-4625-e55b-ce4130b45b00"
      },
      "source": [
        "num = 1\r\n",
        "\r\n",
        "while num <= 10:\r\n",
        "  print(int(num))\r\n",
        "  num += 1.9"
      ],
      "execution_count": 11,
      "outputs": [
        {
          "output_type": "stream",
          "text": [
            "1\n",
            "2\n",
            "4\n",
            "6\n",
            "8\n"
          ],
          "name": "stdout"
        }
      ]
    },
    {
      "cell_type": "code",
      "metadata": {
        "colab": {
          "base_uri": "https://localhost:8080/"
        },
        "id": "781GTUt0AEdm",
        "outputId": "3769c2aa-a119-4d7a-ef26-c44deb9b752a"
      },
      "source": [
        "num2 = 1\r\n",
        "\r\n",
        "while num2 <=10:\r\n",
        "  print(num2)\r\n",
        "  if num2 == 6:\r\n",
        "    break\r\n",
        "  num2 += 1"
      ],
      "execution_count": 15,
      "outputs": [
        {
          "output_type": "stream",
          "text": [
            "1\n",
            "2\n",
            "3\n",
            "4\n",
            "5\n",
            "6\n"
          ],
          "name": "stdout"
        }
      ]
    },
    {
      "cell_type": "code",
      "metadata": {
        "colab": {
          "base_uri": "https://localhost:8080/"
        },
        "id": "uYHnChHuB_fZ",
        "outputId": "c2633612-8350-4864-b7ce-ac95748355ba"
      },
      "source": [
        "num3 = 1\r\n",
        "\r\n",
        "while num3 <= 22:\r\n",
        "  num3 += 1\r\n",
        "  if num3 == 12:\r\n",
        "    continue\r\n",
        "  print(num3)\r\n"
      ],
      "execution_count": 18,
      "outputs": [
        {
          "output_type": "stream",
          "text": [
            "2\n",
            "3\n",
            "4\n",
            "5\n",
            "6\n",
            "7\n",
            "8\n",
            "9\n",
            "10\n",
            "11\n",
            "13\n",
            "14\n",
            "15\n",
            "16\n",
            "17\n",
            "18\n",
            "19\n",
            "20\n",
            "21\n",
            "22\n",
            "23\n"
          ],
          "name": "stdout"
        }
      ]
    }
  ]
}