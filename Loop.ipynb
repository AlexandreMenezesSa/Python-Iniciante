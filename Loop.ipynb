{
  "nbformat": 4,
  "nbformat_minor": 0,
  "metadata": {
    "colab": {
      "name": "Untitled4.ipynb",
      "provenance": [],
      "authorship_tag": "ABX9TyOtX/Il25ySMO4P9QL26cTB",
      "include_colab_link": true
    },
    "kernelspec": {
      "name": "python3",
      "display_name": "Python 3"
    }
  },
  "cells": [
    {
      "cell_type": "markdown",
      "metadata": {
        "id": "view-in-github",
        "colab_type": "text"
      },
      "source": [
        "<a href=\"https://colab.research.google.com/github/AlexandreMenezesSa/Python-Beginner/blob/IGTI/Loop.ipynb\" target=\"_parent\"><img src=\"https://colab.research.google.com/assets/colab-badge.svg\" alt=\"Open In Colab\"/></a>"
      ]
    },
    {
      "cell_type": "markdown",
      "metadata": {
        "id": "ZBRXiDjrJu20"
      },
      "source": [
        "### **Loop**"
      ]
    },
    {
      "cell_type": "code",
      "metadata": {
        "colab": {
          "base_uri": "https://localhost:8080/"
        },
        "id": "b8II6QgnJuRK",
        "outputId": "a6705093-b6bb-4519-b900-1b6a1207e3d9"
      },
      "source": [
        "trabalho = input('Voce deve trabalhar hoje ? ')\r\n",
        "dia = input('O dia esta bonito? ')\r\n",
        "preguica = input('voece esta com preguiça ? ')"
      ],
      "execution_count": 4,
      "outputs": [
        {
          "output_type": "stream",
          "text": [
            "Voce deve trabalhar hoje ? não\n",
            "O dia esta bonito? sim\n",
            "voece esta com preguiça ? sim\n"
          ],
          "name": "stdout"
        }
      ]
    },
    {
      "cell_type": "code",
      "metadata": {
        "colab": {
          "base_uri": "https://localhost:8080/"
        },
        "id": "3kCYiWW0Otxj",
        "outputId": "614fb52e-77ed-4ac4-c7ed-96d5ced2c747"
      },
      "source": [
        "# loop da vida\r\n",
        "\r\n",
        "if trabalho == 'sim':\r\n",
        "  print('è uma pena')\r\n",
        "elif trabalho == 'não':\r\n",
        "  print('Aproveite o dia')\r\n",
        "\r\n",
        "if dia == 'sim' and trabalho == 'não':\r\n",
        "  print('Aproveite para caminhar')\r\n",
        "elif dia == 'não' and trabalho == 'não':\r\n",
        "  print('Aproveite e assista um filme')\r\n",
        "\r\n",
        "if preguica == 'sim' and trabalho == 'não':\r\n",
        "  print('Apreveite e durma mais')\r\n",
        "elif preguica == 'não' and trabalho == 'não':\r\n",
        "  print('cai estudar')"
      ],
      "execution_count": 5,
      "outputs": [
        {
          "output_type": "stream",
          "text": [
            "Aproveite o dia\n",
            "Aproveite para caminhar\n",
            "Apreveite e durma mais\n"
          ],
          "name": "stdout"
        }
      ]
    }
  ]
}