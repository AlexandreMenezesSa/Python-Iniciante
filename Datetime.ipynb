{
  "nbformat": 4,
  "nbformat_minor": 0,
  "metadata": {
    "colab": {
      "name": "Datetime.ipynb",
      "provenance": [],
      "collapsed_sections": [],
      "authorship_tag": "ABX9TyOoS872w0y3OLMJTuqVDSMW",
      "include_colab_link": true
    },
    "kernelspec": {
      "name": "python3",
      "display_name": "Python 3"
    },
    "language_info": {
      "name": "python"
    }
  },
  "cells": [
    {
      "cell_type": "markdown",
      "metadata": {
        "id": "view-in-github",
        "colab_type": "text"
      },
      "source": [
        "<a href=\"https://colab.research.google.com/github/AlexandreMenezesSa/Python-Beginner/blob/master/Datetime.ipynb\" target=\"_parent\"><img src=\"https://colab.research.google.com/assets/colab-badge.svg\" alt=\"Open In Colab\"/></a>"
      ]
    },
    {
      "cell_type": "markdown",
      "metadata": {
        "id": "yIzUSJKA0EjR"
      },
      "source": [
        "\n",
        "**https://github.com/AlexandreMenezesSa**"
      ]
    },
    {
      "cell_type": "code",
      "metadata": {
        "colab": {
          "base_uri": "https://localhost:8080/"
        },
        "id": "iP7AOKZP0GZW",
        "outputId": "5452ba47-04eb-424e-aebf-ef39cb49685d"
      },
      "source": [
        "# versão da liguagem Python\n",
        "\n",
        "from platform import python_version\n",
        "print('Versão da Linguagem Python Usada Neste Jupyter Notebook:', python_version())"
      ],
      "execution_count": null,
      "outputs": [
        {
          "output_type": "stream",
          "text": [
            "Versão da Linguagem Python Usada Neste Jupyter Notebook: 3.7.10\n"
          ],
          "name": "stdout"
        }
      ]
    },
    {
      "cell_type": "markdown",
      "metadata": {
        "id": "NEwaEr9v0gPA"
      },
      "source": [
        "**Datetime**\n",
        "\n",
        "Esse módulo permite a manipulação de datas em Python."
      ]
    },
    {
      "cell_type": "code",
      "metadata": {
        "id": "ZWF91KXJ4iyI"
      },
      "source": [
        "import datetime"
      ],
      "execution_count": null,
      "outputs": []
    },
    {
      "cell_type": "code",
      "metadata": {
        "id": "9FvXdHRp4tEr"
      },
      "source": [
        "agora = datetime.datetime.now()"
      ],
      "execution_count": null,
      "outputs": []
    },
    {
      "cell_type": "code",
      "metadata": {
        "colab": {
          "base_uri": "https://localhost:8080/"
        },
        "id": "7UvhgNKh4zLW",
        "outputId": "6cb414b1-06f2-4fc5-96d9-d824b75bef14"
      },
      "source": [
        "agora"
      ],
      "execution_count": null,
      "outputs": [
        {
          "output_type": "execute_result",
          "data": {
            "text/plain": [
              "datetime.datetime(2021, 7, 15, 11, 17, 52, 676871)"
            ]
          },
          "metadata": {
            "tags": []
          },
          "execution_count": 4
        }
      ]
    },
    {
      "cell_type": "code",
      "metadata": {
        "id": "Krn5LPfq5BhF"
      },
      "source": [
        "t = datetime.time(7 ,43, 28)"
      ],
      "execution_count": null,
      "outputs": []
    },
    {
      "cell_type": "code",
      "metadata": {
        "colab": {
          "base_uri": "https://localhost:8080/"
        },
        "id": "gQCD2OcR5Mlr",
        "outputId": "45038c21-5b65-4f36-97d2-ceaf1804f333"
      },
      "source": [
        "print(t)"
      ],
      "execution_count": null,
      "outputs": [
        {
          "output_type": "stream",
          "text": [
            "07:43:28\n"
          ],
          "name": "stdout"
        }
      ]
    },
    {
      "cell_type": "code",
      "metadata": {
        "colab": {
          "base_uri": "https://localhost:8080/"
        },
        "id": "5-KEIYEw5Rj-",
        "outputId": "fc417286-7096-4242-ee49-c4da287ae423"
      },
      "source": [
        "print('Hora', t.hour)\n",
        "print('Minuto', t.minute)\n",
        "print('Segundo', t.second)\n",
        "print('Microsegundo', t.microsecond)"
      ],
      "execution_count": null,
      "outputs": [
        {
          "output_type": "stream",
          "text": [
            "Hora 7\n",
            "Minuto 43\n",
            "Segundo 28\n",
            "Microsegundo 0\n"
          ],
          "name": "stdout"
        }
      ]
    },
    {
      "cell_type": "code",
      "metadata": {
        "colab": {
          "base_uri": "https://localhost:8080/"
        },
        "id": "DpX70idc5q3V",
        "outputId": "f1183787-939a-44b0-c48e-98b68ae32be3"
      },
      "source": [
        "print(datetime.time.min)"
      ],
      "execution_count": null,
      "outputs": [
        {
          "output_type": "stream",
          "text": [
            "00:00:00\n"
          ],
          "name": "stdout"
        }
      ]
    },
    {
      "cell_type": "code",
      "metadata": {
        "id": "KOQXpMIu5zue"
      },
      "source": [
        "hoje = datetime.date.today()"
      ],
      "execution_count": null,
      "outputs": []
    },
    {
      "cell_type": "code",
      "metadata": {
        "colab": {
          "base_uri": "https://localhost:8080/"
        },
        "id": "c9pw72eP6Eh0",
        "outputId": "ef54c7c0-600a-4a1f-89e5-93f56707b928"
      },
      "source": [
        "print(hoje)\n",
        "print('ctime: ',hoje.ctime())\n",
        "print('Ano: ', hoje.year)\n",
        "print('Mês: ', hoje.month)\n",
        "print('Dia: ', hoje.day)"
      ],
      "execution_count": null,
      "outputs": [
        {
          "output_type": "stream",
          "text": [
            "2021-07-15\n",
            "ctime:  Thu Jul 15 00:00:00 2021\n",
            "Ano:  2021\n",
            "Mês:  7\n",
            "Dia:  15\n"
          ],
          "name": "stdout"
        }
      ]
    },
    {
      "cell_type": "code",
      "metadata": {
        "colab": {
          "base_uri": "https://localhost:8080/"
        },
        "id": "dfszMHA27m-7",
        "outputId": "92776fc6-d9b5-44f8-d780-0398dcb0237d"
      },
      "source": [
        "d1 = datetime.date(2021, 7,15)\n",
        "print('d1: ', d1)"
      ],
      "execution_count": null,
      "outputs": [
        {
          "output_type": "stream",
          "text": [
            "d1:  2021-07-15\n"
          ],
          "name": "stdout"
        }
      ]
    },
    {
      "cell_type": "code",
      "metadata": {
        "colab": {
          "base_uri": "https://localhost:8080/"
        },
        "id": "B9GjVNlg74bc",
        "outputId": "de2ca8bb-dee5-41d3-b14b-781d6b0aeb6e"
      },
      "source": [
        "d2 = d1.replace(year = 2015)\n",
        "print('d2: ', d2)"
      ],
      "execution_count": null,
      "outputs": [
        {
          "output_type": "stream",
          "text": [
            "d2:  2015-07-15\n"
          ],
          "name": "stdout"
        }
      ]
    },
    {
      "cell_type": "code",
      "metadata": {
        "colab": {
          "base_uri": "https://localhost:8080/"
        },
        "id": "eG9GhhIf8dMn",
        "outputId": "bd44fa49-3201-4a09-a7bf-def2392cf837"
      },
      "source": [
        "# Diferença em dias entre duas datas\n",
        "\n",
        "d2 - d1"
      ],
      "execution_count": null,
      "outputs": [
        {
          "output_type": "execute_result",
          "data": {
            "text/plain": [
              "datetime.timedelta(days=-2192)"
            ]
          },
          "metadata": {
            "tags": []
          },
          "execution_count": 21
        }
      ]
    }
  ]
}