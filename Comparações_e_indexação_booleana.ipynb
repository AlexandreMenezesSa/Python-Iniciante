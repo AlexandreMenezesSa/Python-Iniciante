{
  "nbformat": 4,
  "nbformat_minor": 0,
  "metadata": {
    "colab": {
      "name": "Comparações e indexação booleana.ipynb",
      "provenance": [],
      "authorship_tag": "ABX9TyMAqNao7mFOaMGo/u2MPyWo",
      "include_colab_link": true
    },
    "kernelspec": {
      "name": "python3",
      "display_name": "Python 3"
    },
    "language_info": {
      "name": "python"
    }
  },
  "cells": [
    {
      "cell_type": "markdown",
      "metadata": {
        "id": "view-in-github",
        "colab_type": "text"
      },
      "source": [
        "<a href=\"https://colab.research.google.com/github/AlexandreMenezesSa/Python-Beginner/blob/master/Compara%C3%A7%C3%B5es_e_indexa%C3%A7%C3%A3o_booleana.ipynb\" target=\"_parent\"><img src=\"https://colab.research.google.com/assets/colab-badge.svg\" alt=\"Open In Colab\"/></a>"
      ]
    },
    {
      "cell_type": "markdown",
      "metadata": {
        "id": "Z8pRmUvD16SS"
      },
      "source": [
        "## **Comparações e indexação booleana**"
      ]
    },
    {
      "cell_type": "markdown",
      "metadata": {
        "id": "L5GHbb3U2TQ-"
      },
      "source": [
        "**Maior/Maior ou igual:**"
      ]
    },
    {
      "cell_type": "code",
      "metadata": {
        "id": "5iAQ83b_3DyF"
      },
      "source": [
        "# importando as bibliotecas\n",
        "import numpy as np"
      ],
      "execution_count": null,
      "outputs": []
    },
    {
      "cell_type": "code",
      "metadata": {
        "colab": {
          "base_uri": "https://localhost:8080/"
        },
        "id": "rRtREYOq10yq",
        "outputId": "b4d0818e-745e-4fc5-a43b-2e23bbe3feab"
      },
      "source": [
        "# criação dos arrays\n",
        "x = np.array([[1, 2], [3, 4],[11,12]])\n",
        "y = np.array([1.5, 3.5])\n",
        "print(\"x: \\n\", x)\n",
        "print(\"y: \\n\", y)"
      ],
      "execution_count": null,
      "outputs": [
        {
          "output_type": "stream",
          "text": [
            "x: \n",
            " [[ 1  2]\n",
            " [ 3  4]\n",
            " [11 12]]\n",
            "y: \n",
            " [1.5 3.5]\n"
          ],
          "name": "stdout"
        }
      ]
    },
    {
      "cell_type": "code",
      "metadata": {
        "colab": {
          "base_uri": "https://localhost:8080/"
        },
        "id": "DquuoOcG3GgG",
        "outputId": "b29349f2-b676-47c2-d314-8a755044c198"
      },
      "source": [
        "# comparações ponto a ponto\n",
        "print(\"Comparação de um array com um escalar (>): \\n\", x > 2)  \n",
        "print(\"Comparação de um array com um escalar (>=): \\n\", x >= 2)\n",
        "print(\"Comparação de um array com um escalar (<): \\n\", x < 2)  \n",
        "print(\"Comparação de um array com um escalar (<=): \\n\", x <= 2)\n",
        "print(\"Comparação entre arrays (==): \\n\", x == x)\n",
        "print(\"Comparação entre arrays (>): \\n\", x > x)\n",
        "print(\"Comparação entre arrays (>): \\n\", x > y)  # broadcasting"
      ],
      "execution_count": null,
      "outputs": [
        {
          "output_type": "stream",
          "text": [
            "Comparação de um array com um escalar (>): \n",
            " [[False False]\n",
            " [ True  True]\n",
            " [ True  True]]\n",
            "Comparação de um array com um escalar (>=): \n",
            " [[False  True]\n",
            " [ True  True]\n",
            " [ True  True]]\n",
            "Comparação de um array com um escalar (<): \n",
            " [[ True False]\n",
            " [False False]\n",
            " [False False]]\n",
            "Comparação de um array com um escalar (<=): \n",
            " [[ True  True]\n",
            " [False False]\n",
            " [False False]]\n",
            "Comparação entre arrays (==): \n",
            " [[ True  True]\n",
            " [ True  True]\n",
            " [ True  True]]\n",
            "Comparação entre arrays (>): \n",
            " [[False False]\n",
            " [False False]\n",
            " [False False]]\n",
            "Comparação entre arrays (>): \n",
            " [[False False]\n",
            " [ True  True]\n",
            " [ True  True]]\n"
          ],
          "name": "stdout"
        }
      ]
    },
    {
      "cell_type": "markdown",
      "metadata": {
        "id": "u-2_8d738KI9"
      },
      "source": [
        "# **Indexação booleana**"
      ]
    },
    {
      "cell_type": "code",
      "metadata": {
        "colab": {
          "base_uri": "https://localhost:8080/"
        },
        "id": "Zb2DSLje8N9S",
        "outputId": "e800c6d6-7f47-470a-8d58-82f304a72e88"
      },
      "source": [
        "x = np.array([[1, 3, 7],\n",
        "              [4, 11, 21],\n",
        "              [42, 8, 9]])\n",
        "print(\"x:\\n\", x)"
      ],
      "execution_count": null,
      "outputs": [
        {
          "output_type": "stream",
          "text": [
            "x:\n",
            " [[ 1  3  7]\n",
            " [ 4 11 21]\n",
            " [42  8  9]]\n"
          ],
          "name": "stdout"
        }
      ]
    },
    {
      "cell_type": "code",
      "metadata": {
        "colab": {
          "base_uri": "https://localhost:8080/"
        },
        "id": "bTFeHQMl8Rb2",
        "outputId": "dd75d340-6d38-48e2-fedf-98d90d3a1d09"
      },
      "source": [
        "# indexação boolena: retornar o número de elementos\n",
        "# maiores que k\n",
        "k = 12\n",
        "cond = x > k\n",
        "print(\"condição: \\n\", cond)\n",
        "\n",
        "print(f\"elementos maiores que {k}:\", x[cond])\n",
        "print(f\"números de elementos maiores que {k}:\", len(x[cond]))"
      ],
      "execution_count": null,
      "outputs": [
        {
          "output_type": "stream",
          "text": [
            "condição: \n",
            " [[False False False]\n",
            " [False False  True]\n",
            " [ True False False]]\n",
            "elementos maiores que 12: [21 42]\n",
            "números de elementos maiores que 12: 2\n"
          ],
          "name": "stdout"
        }
      ]
    },
    {
      "cell_type": "code",
      "metadata": {
        "colab": {
          "base_uri": "https://localhost:8080/"
        },
        "id": "VfSPtbKs9bAu",
        "outputId": "5921df53-5867-45b9-9059-708fd4ff8d0e"
      },
      "source": [
        "# indexação boolena: extração dos números pares\n",
        "cond = x % 2 == 0  # números pares\n",
        "print(\"condição: \\n\", cond)\n",
        "print(\"números pares:\", x[cond])"
      ],
      "execution_count": null,
      "outputs": [
        {
          "output_type": "stream",
          "text": [
            "condição: \n",
            " [[False False False]\n",
            " [ True False False]\n",
            " [ True  True False]]\n",
            "números pares: [ 4 42  8]\n"
          ],
          "name": "stdout"
        }
      ]
    },
    {
      "cell_type": "code",
      "metadata": {
        "colab": {
          "base_uri": "https://localhost:8080/"
        },
        "id": "TM_E_ttV9hUd",
        "outputId": "2264f1d9-072e-4d92-f3f3-aa48100d88cd"
      },
      "source": [
        "# indexação boolena: extração dos números ímpares\n",
        "cond = x % 2 == 1  # números pares\n",
        "print(\"condição: \\n\", cond)\n",
        "print(\"números pares:\", x[cond])"
      ],
      "execution_count": null,
      "outputs": [
        {
          "output_type": "stream",
          "text": [
            "condição: \n",
            " [[ True  True  True]\n",
            " [False  True  True]\n",
            " [False False  True]]\n",
            "números pares: [ 1  3  7 11 21  9]\n"
          ],
          "name": "stdout"
        }
      ]
    }
  ]
}